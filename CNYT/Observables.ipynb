{
 "cells": [
  {
   "cell_type": "code",
   "execution_count": null,
   "metadata": {},
   "outputs": [],
   "source": [
    "import numpy as np\n",
    "# Definir los estados |psi> y |phi> como arreglos de números complejos\n",
    "psi = np.array([complex(-3, -1), complex(0, -2), complex(0, 1), complex(2, 0)])\n",
    "phi = np.array([complex(1, 1), complex(0, 1), complex(1, -1), complex(0, 2)])\n",
    "# Calcular la probabilidad de estar en una posición específica en |psi>\n",
    "def probabilidad_posicion(estado, posicion):\n",
    "   norm = np.sum(np.abs(estado)**2)\n",
    "   return np.abs(estado[posicion])**2 / norm\n",
    "# Calcular la probabilidad de transición de |psi> a |phi>\n",
    "def probabilidad_transicion(psi, phi):\n",
    "   producto_interno = np.vdot(psi, phi)\n",
    "   return np.abs(producto_interno)**2\n",
    "\n",
    "print(\"Probabilidad en la posición 2:\", probabilidad_posicion(psi, 2))\n",
    "print(\"Probabilidad de transición:\", probabilidad_transicion(psi, phi))"
   ]
  }
 ],
 "metadata": {
  "kernelspec": {
   "display_name": ".venv",
   "language": "python",
   "name": "python3"
  },
  "language_info": {
   "name": "python",
   "version": "3.11.6"
  }
 },
 "nbformat": 4,
 "nbformat_minor": 2
}
