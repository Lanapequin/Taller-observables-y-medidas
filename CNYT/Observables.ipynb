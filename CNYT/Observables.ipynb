{
 "cells": [
  {
   "cell_type": "markdown",
   "metadata": {},
   "source": [
    "# Teoría cuántica básica, Observables y Medidas"
   ]
  },
  {
   "cell_type": "markdown",
   "metadata": {},
   "source": [
    "## Simule el primer sistema cuántico descrito en la sección 4.1."
   ]
  },
  {
   "cell_type": "markdown",
   "metadata": {},
   "source": [
    "### El sistema consiste en una partícula confinada a un conjunto discreto de posiciones en una línea. El simulador debe permitir especificar el número de posiciones y un vector ket de estado asignando las amplitudes.\n",
    "### 1. El sistema debe calcular la probabilidad de encontrarlo en una posición en particular.\n"
   ]
  },
  {
   "cell_type": "code",
   "execution_count": 7,
   "metadata": {},
   "outputs": [
    {
     "name": "stdout",
     "output_type": "stream",
     "text": [
      "Probabilidad en la posición 2: 0.05263157894736842\n"
     ]
    }
   ],
   "source": [
    "import numpy as np\n",
    "def probabilidad_posicion(estado, posicion):\n",
    "   norm = np.sum(np.abs(estado)**2)\n",
    "   return np.abs(estado[posicion])**2 / norm\n",
    "psi = np.array([complex(-3, -1), complex(0, -2), complex(0, 1), complex(2, 0)])\n",
    "print(\"Probabilidad en la posición 2:\", probabilidad_posicion(psi, 2))"
   ]
  },
  {
   "cell_type": "markdown",
   "metadata": {},
   "source": [
    "### 2. El sistema si se le da otro vector Ket debe buscar la probabilidad de transitar del primer vector al segundo."
   ]
  },
  {
   "cell_type": "code",
   "execution_count": 24,
   "metadata": {},
   "outputs": [
    {
     "name": "stdout",
     "output_type": "stream",
     "text": [
      "Probabilidad de transición: 0.9680000000000002\n"
     ]
    }
   ],
   "source": [
    "import numpy as np\n",
    "def normalizado(v):\n",
    "   norma = np.linalg.norm(v) \n",
    "   return v / norma\n",
    "def probabilidad_transicion(psi, phi):\n",
    "   npsi = normalizado(psi)\n",
    "   nphi = normalizado(phi)\n",
    "   producto_interno = np.vdot(npsi, nphi)\n",
    "   return np.abs(producto_interno)**2\n",
    "\n",
    "psi = np.array([1, 2j])\n",
    "phi = np.array([3, 4j])\n",
    "print(\"Probabilidad de transición:\", probabilidad_transicion(psi, phi))"
   ]
  },
  {
   "cell_type": "markdown",
   "metadata": {},
   "source": [
    "## Complete los retos de programación del capítulo 4."
   ]
  },
  {
   "cell_type": "markdown",
   "metadata": {},
   "source": [
    "### 1. Amplitud de transición. El sistema puede recibir dos vectores y calcular la probabilidad de transitar de el uno al otro después de hacer la observación\n",
    "\n"
   ]
  },
  {
   "cell_type": "code",
   "execution_count": 27,
   "metadata": {},
   "outputs": [
    {
     "name": "stdout",
     "output_type": "stream",
     "text": [
      "Probabilidad de transición: 0.9680000000000002\n"
     ]
    }
   ],
   "source": [
    "import numpy as np\n",
    "def normalizado(v):\n",
    "    norma = np.linalg.norm(v) \n",
    "    return v / norma\n",
    "def amplitud(psi, phi):\n",
    "    npsi = normalizado(psi)\n",
    "    nphi = normalizado(phi)\n",
    "    producto_interno = np.vdot(npsi, nphi)\n",
    "    prob=probabilidad_transicion(producto_interno)\n",
    "    return prob\n",
    "def probabilidad_transicion(amplitud):\n",
    "    return np.abs(amplitud)**2\n",
    "\n",
    "psi = np.array([1, 2j])\n",
    "phi = np.array([3, 4j])\n",
    "print(\"Probabilidad de transición:\", amplitud(psi, phi))"
   ]
  },
  {
   "cell_type": "markdown",
   "metadata": {},
   "source": [
    "### 2. Ahora con una matriz que describa un observable y un vector ket, el sistema revisa que la matriz sea hermitiana, y si lo es, calcula la media y la varianza del observable en el estado dado.\n"
   ]
  },
  {
   "cell_type": "code",
   "execution_count": 32,
   "metadata": {},
   "outputs": [
    {
     "name": "stdout",
     "output_type": "stream",
     "text": [
      "La matriz es hermitiana\n",
      "Media del observable: (1+0j)\n",
      "Varianza del observable: (-2.2+0j)\n"
     ]
    }
   ],
   "source": [
    "import numpy as np\n",
    "def normalizado(v):\n",
    "    norma = np.linalg.norm(v) \n",
    "    return v / norma\n",
    "\n",
    "def es_hermitiana(matriz):\n",
    "    return np.allclose(matriz, np.conjugate(matriz.T))\n",
    "\n",
    "def media(observable, ket):\n",
    "    bra = np.conjugate(ket.T)\n",
    "    return np.vdot(bra, np.dot(observable, ket))\n",
    "\n",
    "def varianza_observable(observable, ket):\n",
    "    valor_medio = media(observable, ket)\n",
    "    observable_cuadrado = np.dot(observable, observable)\n",
    "    valor_medio_cuadrado = media(observable_cuadrado, ket)\n",
    "    return valor_medio_cuadrado - valor_medio**2\n",
    "\n",
    "def main():\n",
    "    observable = np.array([[1, 1j],[-1j, -1]])\n",
    "    estado = np.array([1, 2j])\n",
    "    nestado= normalizado(estado)\n",
    "    if es_hermitiana(observable):\n",
    "        print(\"La matriz es hermitiana\")\n",
    "        med = media(observable, nestado)\n",
    "        varianza = varianza_observable(observable, nestado)\n",
    "        print(\"Media del observable:\", med)\n",
    "        print(\"Varianza del observable:\", varianza)\n",
    "    else:\n",
    "        print(\"La matriz no es hermitiana\")\n",
    "main()"
   ]
  },
  {
   "cell_type": "markdown",
   "metadata": {},
   "source": [
    "\n",
    "### 3. El sistema calcula los valores propios del observable y la probabilidad de que el sistema transite a alguno de los vectores propios después de la observación.\n"
   ]
  },
  {
   "cell_type": "code",
   "execution_count": 1,
   "metadata": {},
   "outputs": [
    {
     "name": "stdout",
     "output_type": "stream",
     "text": [
      "Valores propios del observable: [-1.41421356  1.41421356]\n",
      "Probabilidades de transitar a los vectores propios: [0.7121320343559642, 0.2878679656440358]\n"
     ]
    }
   ],
   "source": [
    "import numpy as np\n",
    "\n",
    "def normalizado(v):\n",
    "    norma = np.linalg.norm(v) \n",
    "    return v / norma\n",
    "\n",
    "def es_hermitiana(matriz):\n",
    "    return np.allclose(matriz, np.conjugate(matriz.T))\n",
    "\n",
    "def valores_propios_observable(observable):\n",
    "    if not es_hermitiana(observable):\n",
    "        raise ValueError(\"La matriz no es hermitiana. No se puede considerar como un observable.\")\n",
    "    valores_propios, vectores_propios = np.linalg.eigh(observable)\n",
    "    return valores_propios, vectores_propios\n",
    "\n",
    "def probabilidad_transicion_a_vpropios(estado, vectores_propios):\n",
    "    probabilidades = []\n",
    "    vectores_norm = [normalizado(vector_propio) for vector_propio in vectores_propios]\n",
    "    for nvector_propio in vectores_norm:\n",
    "        probabilidad = np.abs(np.dot(estado.conj(), nvector_propio))**2\n",
    "        probabilidades.append(probabilidad)\n",
    "    return probabilidades\n",
    "\n",
    "observable = np.array([[1, 1j],[-1j, -1]])\n",
    "estado = np.array([1, 2j])\n",
    "nestado = normalizado(estado)\n",
    "\n",
    "try:\n",
    "    valores_propios, vectores_propios = valores_propios_observable(observable)\n",
    "    probabilidades = probabilidad_transicion_a_vpropios(nestado, vectores_propios)\n",
    "    probabilidades_float = list(map(float, probabilidades))\n",
    "    print(\"Valores propios del observable:\", valores_propios)\n",
    "    print(\"Probabilidades de transitar a los vectores propios:\", probabilidades_float)\n",
    "except ValueError as e:\n",
    "    print(e)"
   ]
  },
  {
   "cell_type": "markdown",
   "metadata": {},
   "source": [
    "\n",
    "### 4. Se considera la dinámica del sistema. Ahora con una serie de matrices Un el sistema calcula el estado final a partir de un estado inicial."
   ]
  },
  {
   "cell_type": "code",
   "execution_count": 45,
   "metadata": {},
   "outputs": [
    {
     "name": "stdout",
     "output_type": "stream",
     "text": [
      "Estado final después de la evolución: [ 0.70710678 -0.70710678]\n"
     ]
    }
   ],
   "source": [
    "def estado_final(matrices_unitarias, estado_inicial):\n",
    "    estado = estado_inicial\n",
    "    for U in matrices_unitarias:\n",
    "        estado = np.dot(U, estado)\n",
    "    return estado\n",
    "\n",
    "\n",
    "U1 = np.array([[0, 1], [1, 0]])\n",
    "U2 = (1 / np.sqrt(2)) * np.array([[1, 1],[1, -1]])\n",
    "estado_inicial = np.array([1, 0])\n",
    "estado_final = estado_final([U1, U2], estado_inicial)\n",
    "print(\"Estado final después de la evolución:\", estado_final)\n"
   ]
  },
  {
   "cell_type": "markdown",
   "metadata": {},
   "source": [
    "## Realice los siguientes problemas e incluyalos como ejemplos\n",
    "\n",
    "### Modele en su librería los problemas\n",
    "### 4.3.1\n",
    "![image1](images/4.3.1.jpg)"
   ]
  },
  {
   "cell_type": "code",
   "execution_count": 47,
   "metadata": {},
   "outputs": [
    {
     "name": "stdout",
     "output_type": "stream",
     "text": [
      "Estado resultante después de aplicar Sx al estado spin up:\n",
      "[0.  0.5]\n",
      "\n",
      "Posibles estados después de la medición:\n",
      "|spin up> = [0.70710678 0.70710678]\n",
      "|spin down> = [ 0.70710678 -0.70710678]\n"
     ]
    }
   ],
   "source": [
    "import numpy as np\n",
    "spin_up = np.array([1, 0])\n",
    "spin_down = np.array([0, 1])\n",
    "Sx = 0.5 * np.array([[0, 1], [1, 0]])\n",
    "\n",
    "resulting_state = np.dot(Sx, spin_up)\n",
    "spin_up_x = (1/np.sqrt(2)) * (spin_up + spin_down)\n",
    "spin_down_x = (1/np.sqrt(2)) * (spin_up - spin_down)\n",
    "prob_up_x = np.abs(np.dot(spin_up_x.conj(), resulting_state))**2\n",
    "prob_down_x = np.abs(np.dot(spin_down_x.conj(), resulting_state))**2\n",
    "\n",
    "print(\"Estado resultante después de aplicar Sx al estado spin up:\")\n",
    "print(resulting_state)\n",
    "\n",
    "print(\"\\nPosibles estados después de la medición:\")\n",
    "print(\"|spin up> =\", spin_up_x)\n",
    "print(\"|spin down> =\", spin_down_x)\n"
   ]
  },
  {
   "cell_type": "markdown",
   "metadata": {},
   "source": [
    "### 4.3.2\n",
    "![image2](images/4.3.2.jpg)"
   ]
  },
  {
   "cell_type": "code",
   "execution_count": 53,
   "metadata": {},
   "outputs": [
    {
     "data": {
      "image/png": "[encoded data removed]",
      "text/plain": [
       "<Figure size 640x480 with 1 Axes>"
      ]
     },
     "metadata": {},
     "output_type": "display_data"
    }
   ],
   "source": [
    "import numpy as np\n",
    "import matplotlib.pyplot as plt\n",
    "\n",
    "estado_spin_arriba = np.array([1, 0])\n",
    "Sx = 0.5 * np.array([[0, 1], [1, 0]])\n",
    "nEstado=normalizado(estado_spin_arriba)\n",
    "valores_propios, vectores_propios = np.linalg.eig(Sx)\n",
    "\n",
    "def normalizado(v):\n",
    "    norma = np.linalg.norm(v) \n",
    "    return v / norma\n",
    "probabilidades = []\n",
    "for vector_propio in vectores_propios.T:\n",
    "    nvector_propio=normalizado(vector_propio)\n",
    "    probabilidad = np.abs(np.dot(nEstado.conj(), nvector_propio))**2\n",
    "    probabilidades.append(probabilidad)\n",
    "\n",
    "# Graficar la distribución de probabilidad de transición\n",
    "plt.bar(range(len(valores_propios)), probabilidades)\n",
    "plt.xlabel('Valores propios')\n",
    "plt.ylabel('Probabilidad de transición')\n",
    "plt.title('Distribución de probabilidad de los valores propios')\n",
    "plt.show()\n",
    "\n"
   ]
  },
  {
   "cell_type": "markdown",
   "metadata": {},
   "source": [
    "### 4.4.1\n",
    "![image3](images/4.4.1.jpg)\n"
   ]
  },
  {
   "cell_type": "code",
   "execution_count": 54,
   "metadata": {},
   "outputs": [
    {
     "name": "stdout",
     "output_type": "stream",
     "text": [
      "U1 es unitaria: True\n",
      "U2 es unitaria: True\n",
      "El producto de U1 y U2 es unitario: True\n"
     ]
    }
   ],
   "source": [
    "import numpy as np\n",
    "\n",
    "U1 = np.array([[0, 1],\n",
    "              [1, 0]])\n",
    "U2 = np.array([[np.sqrt(2)/2, np.sqrt(2)/2],\n",
    "              [np.sqrt(2)/2, -np.sqrt(2)/2]])\n",
    "\n",
    "def es_unitaria(matriz):\n",
    "    adjunta = np.conjugate(matriz.T)\n",
    "    producto = np.dot(adjunta, matriz)\n",
    "    identidad = np.eye(matriz.shape[0])\n",
    "    if np.allclose(producto, identidad):\n",
    "        return True\n",
    "    else:\n",
    "        return False\n",
    "\n",
    "print(\"U1 es unitaria:\", es_unitaria(U1))\n",
    "print(\"U2 es unitaria:\", es_unitaria(U2))\n",
    "\n",
    "producto = np.dot(U1, U2)\n",
    "\n",
    "print(\"El producto de U1 y U2 es unitario:\", es_unitaria(producto))"
   ]
  },
  {
   "cell_type": "markdown",
   "metadata": {},
   "source": [
    "### 4.4.2\n",
    "![image1](images/4.4.2.jpg)"
   ]
  },
  {
   "cell_type": "code",
   "execution_count": 59,
   "metadata": {},
   "outputs": [
    {
     "name": "stdout",
     "output_type": "stream",
     "text": [
      "Estado final del sistema: [ 0.        +0.j         -0.70710678+0.70710678j  0.        +0.j\n",
      "  0.        +0.j        ]\n",
      "Probabilidad de encontrar la bola en el punto 3: 0.0\n"
     ]
    }
   ],
   "source": [
    "import numpy as np\n",
    "\n",
    "M = np.array([[0  ,1/np.sqrt(2)  ,1/np.sqrt(2)  ,0], \n",
    "              [1j/np.sqrt(2),0   ,0  ,1/np.sqrt(2)], \n",
    "              [1/np.sqrt(2)  ,0  ,0  ,1j/np.sqrt(2)],\n",
    "              [0  ,1/np.sqrt(2)  ,-1/np.sqrt(2)  ,0]])\n",
    "\n",
    "estado_inicial = np.array([1, 0, 0, 0])\n",
    "punto_1 = np.dot(M, estado_inicial)\n",
    "punto_2 = np.dot(M, punto_1)\n",
    "estado_final = np.dot(M, punto_2)\n",
    "probabilidad_punto_3 = np.abs(estado_final[2])**2\n",
    "\n",
    "print(\"Estado final del sistema:\", estado_final)\n",
    "print(\"Probabilidad de encontrar la bola en el punto 3:\", probabilidad_punto_3)\n"
   ]
  }
 ],
 "metadata": {
  "kernelspec": {
   "display_name": "Python 3",
   "language": "python",
   "name": "python3"
  },
  "language_info": {
   "codemirror_mode": {
    "name": "ipython",
    "version": 3
   },
   "file_extension": ".py",
   "mimetype": "text/x-python",
   "name": "python",
   "nbconvert_exporter": "python",
   "pygments_lexer": "ipython3",
   "version": "3.12.1"
  }
 },
 "nbformat": 4,
 "nbformat_minor": 2
}
